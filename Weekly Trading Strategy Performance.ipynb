{
 "cells": [
  {
   "cell_type": "markdown",
   "id": "91c43303-e48d-4159-a297-579bd45f44e1",
   "metadata": {},
   "source": [
    "## Weekly Trading Strategy Performance"
   ]
  },
  {
   "cell_type": "code",
   "execution_count": 97,
   "id": "4e2baca0-5220-4683-980e-d05d067ce047",
   "metadata": {},
   "outputs": [],
   "source": [
    "import pandas as pd\n",
    "import numpy as np\n",
    "import yfinance as yf\n",
    "from persiantools.jdatetime import JalaliDate\n",
    "import matplotlib.pyplot as plt"
   ]
  },
  {
   "cell_type": "code",
   "execution_count": 51,
   "id": "855d8b5b-c027-43cd-a0e5-4c34d4244a2e",
   "metadata": {},
   "outputs": [
    {
     "name": "stderr",
     "output_type": "stream",
     "text": [
      "[*********************100%***********************]  1 of 1 completed"
     ]
    },
    {
     "name": "stdout",
     "output_type": "stream",
     "text": [
      "Price              Close          High           Low          Open  \\\n",
      "Ticker           BTC-USD       BTC-USD       BTC-USD       BTC-USD   \n",
      "Date                                                                 \n",
      "2018-01-01  13657.200195  14112.200195  13154.700195  14112.200195   \n",
      "2018-01-02  14982.099609  15444.599609  13163.599609  13625.000000   \n",
      "2018-01-03  15201.000000  15572.799805  14844.500000  14978.200195   \n",
      "2018-01-04  15599.200195  15739.700195  14522.200195  15270.700195   \n",
      "2018-01-05  17429.500000  17705.199219  15202.799805  15477.200195   \n",
      "\n",
      "Price            Volume  \n",
      "Ticker          BTC-USD  \n",
      "Date                     \n",
      "2018-01-01  10291200000  \n",
      "2018-01-02  16846600192  \n",
      "2018-01-03  16871900160  \n",
      "2018-01-04  21783199744  \n",
      "2018-01-05  23840899072  \n",
      "<class 'pandas.core.frame.DataFrame'>\n",
      "DatetimeIndex: 2555 entries, 2018-01-01 to 2024-12-29\n",
      "Data columns (total 5 columns):\n",
      " #   Column             Non-Null Count  Dtype  \n",
      "---  ------             --------------  -----  \n",
      " 0   (Close, BTC-USD)   2555 non-null   float64\n",
      " 1   (High, BTC-USD)    2555 non-null   float64\n",
      " 2   (Low, BTC-USD)     2555 non-null   float64\n",
      " 3   (Open, BTC-USD)    2555 non-null   float64\n",
      " 4   (Volume, BTC-USD)  2555 non-null   int64  \n",
      "dtypes: float64(4), int64(1)\n",
      "memory usage: 119.8 KB\n",
      "None\n"
     ]
    },
    {
     "name": "stderr",
     "output_type": "stream",
     "text": [
      "\n"
     ]
    }
   ],
   "source": [
    "btc = yf.download(\"BTC-USD\", start=\"2018-01-01\", end=\"2024-12-30\")\n",
    "print(btc.head())\n",
    "print(btc.info())"
   ]
  },
  {
   "cell_type": "code",
   "execution_count": 52,
   "id": "d5b09339-34e9-41e5-99ad-b93e7637337f",
   "metadata": {},
   "outputs": [
    {
     "name": "stdout",
     "output_type": "stream",
     "text": [
      "Index(['Close', 'High', 'Low', 'Open', 'Volume'], dtype='object')\n"
     ]
    }
   ],
   "source": [
    "btc.columns = [col[0] for col in btc.columns]\n",
    "print(btc.columns)"
   ]
  },
  {
   "cell_type": "code",
   "execution_count": 53,
   "id": "a7e09929-faef-4cad-93ff-dc2c5982db58",
   "metadata": {},
   "outputs": [
    {
     "name": "stdout",
     "output_type": "stream",
     "text": [
      "Index(['Close', 'High', 'Low', 'Open', 'Volume', 'Date'], dtype='object')\n",
      "          Close          High           Low          Open       Volume  \\\n",
      "0  13657.200195  14112.200195  13154.700195  14112.200195  10291200000   \n",
      "1  14982.099609  15444.599609  13163.599609  13625.000000  16846600192   \n",
      "2  15201.000000  15572.799805  14844.500000  14978.200195  16871900160   \n",
      "3  15599.200195  15739.700195  14522.200195  15270.700195  21783199744   \n",
      "4  17429.500000  17705.199219  15202.799805  15477.200195  23840899072   \n",
      "\n",
      "        Date  \n",
      "0 2018-01-01  \n",
      "1 2018-01-02  \n",
      "2 2018-01-03  \n",
      "3 2018-01-04  \n",
      "4 2018-01-05  \n"
     ]
    }
   ],
   "source": [
    "btc[\"Date\"] = pd.to_datetime(btc.index)\n",
    "btc.reset_index(drop=True, inplace=True)\n",
    "print(btc.columns)\n",
    "print(btc.head())"
   ]
  },
  {
   "cell_type": "code",
   "execution_count": 54,
   "id": "3212f17a-21f6-4314-91f2-0be489c84a36",
   "metadata": {},
   "outputs": [
    {
     "name": "stdout",
     "output_type": "stream",
     "text": [
      "<class 'pandas.core.frame.DataFrame'>\n",
      "RangeIndex: 2555 entries, 0 to 2554\n",
      "Data columns (total 6 columns):\n",
      " #   Column  Non-Null Count  Dtype         \n",
      "---  ------  --------------  -----         \n",
      " 0   Close   2555 non-null   float64       \n",
      " 1   High    2555 non-null   float64       \n",
      " 2   Low     2555 non-null   float64       \n",
      " 3   Open    2555 non-null   float64       \n",
      " 4   Volume  2555 non-null   int64         \n",
      " 5   Date    2555 non-null   datetime64[ns]\n",
      "dtypes: datetime64[ns](1), float64(4), int64(1)\n",
      "memory usage: 119.9 KB\n",
      "None\n"
     ]
    }
   ],
   "source": [
    "for col in [\"Close\", \"High\", \"Low\", \"Open\", \"Volume\"]:\n",
    "    btc[col] = pd.to_numeric(btc[col], errors='coerce')\n",
    "print(btc.info())"
   ]
  },
  {
   "cell_type": "code",
   "execution_count": 55,
   "id": "d89bdc75-a1ab-4975-88f5-cf51cc5bf77d",
   "metadata": {},
   "outputs": [
    {
     "name": "stdout",
     "output_type": "stream",
     "text": [
      "<class 'pandas.core.frame.DataFrame'>\n",
      "RangeIndex: 2555 entries, 0 to 2554\n",
      "Data columns (total 7 columns):\n",
      " #   Column   Non-Null Count  Dtype         \n",
      "---  ------   --------------  -----         \n",
      " 0   Close    2555 non-null   float64       \n",
      " 1   High     2555 non-null   float64       \n",
      " 2   Low      2555 non-null   float64       \n",
      " 3   Open     2555 non-null   float64       \n",
      " 4   Volume   2555 non-null   int64         \n",
      " 5   Date     2555 non-null   datetime64[ns]\n",
      " 6   Weekday  2555 non-null   int64         \n",
      "dtypes: datetime64[ns](1), float64(4), int64(2)\n",
      "memory usage: 139.9 KB\n",
      "None\n",
      "          Close          High           Low          Open       Volume  \\\n",
      "0  13657.200195  14112.200195  13154.700195  14112.200195  10291200000   \n",
      "1  14982.099609  15444.599609  13163.599609  13625.000000  16846600192   \n",
      "2  15201.000000  15572.799805  14844.500000  14978.200195  16871900160   \n",
      "3  15599.200195  15739.700195  14522.200195  15270.700195  21783199744   \n",
      "4  17429.500000  17705.199219  15202.799805  15477.200195  23840899072   \n",
      "\n",
      "        Date  Weekday  \n",
      "0 2018-01-01        3  \n",
      "1 2018-01-02        4  \n",
      "2 2018-01-03        5  \n",
      "3 2018-01-04        6  \n",
      "4 2018-01-05        7  \n"
     ]
    }
   ],
   "source": [
    "btc[\"Weekday\"]=btc[\"Date\"].apply(lambda miladi_date:JalaliDate(miladi_date).isoweekday())\n",
    "print(btc.info())\n",
    "print(btc.head())"
   ]
  },
  {
   "cell_type": "code",
   "execution_count": 56,
   "id": "e16e422e-bb43-4f28-82e2-e5c880764fda",
   "metadata": {},
   "outputs": [
    {
     "name": "stdout",
     "output_type": "stream",
     "text": [
      "           Date    Sunday_Open\n",
      "6    2018-01-07   17527.300781\n",
      "13   2018-01-14   14370.799805\n",
      "20   2018-01-21   12889.200195\n",
      "27   2018-01-28   11475.299805\n",
      "34   2018-02-04    9175.700195\n",
      "...         ...            ...\n",
      "2526 2024-12-01   96461.335938\n",
      "2533 2024-12-08   99921.914062\n",
      "2540 2024-12-15  101373.531250\n",
      "2547 2024-12-22   97218.320312\n",
      "2554 2024-12-29   95174.054688\n",
      "\n",
      "[365 rows x 2 columns]\n",
      "           Date  Wednesday_Close\n",
      "2    2018-01-03     15201.000000\n",
      "9    2018-01-10     14973.299805\n",
      "16   2018-01-17     11188.599609\n",
      "23   2018-01-24     11359.400391\n",
      "30   2018-01-31     10221.099609\n",
      "...         ...              ...\n",
      "2522 2024-11-27     95962.531250\n",
      "2529 2024-12-04     98768.531250\n",
      "2536 2024-12-11    101173.031250\n",
      "2543 2024-12-18    100041.539062\n",
      "2550 2024-12-25     99299.195312\n",
      "\n",
      "[365 rows x 2 columns]\n"
     ]
    }
   ],
   "source": [
    "sundays = btc[btc[\"Weekday\"] == 2][[\"Date\", \"Open\"]].rename(columns={\"Open\": \"Sunday_Open\"})\n",
    "wednesdays = btc[btc[\"Weekday\"] == 5][[\"Date\", \"Close\"]].rename(columns={\"Close\": \"Wednesday_Close\"})\n",
    "\n",
    "print(sundays)\n",
    "print(wednesdays)"
   ]
  },
  {
   "cell_type": "code",
   "execution_count": 57,
   "id": "696a77f6-9e37-4aa0-9a63-c550f3e6480d",
   "metadata": {},
   "outputs": [
    {
     "name": "stdout",
     "output_type": "stream",
     "text": [
      "    Sunday_Date    Sunday_Open Wednesday_Date  Wednesday_Close\n",
      "0    2018-01-07   17527.300781     2018-01-10     14973.299805\n",
      "1    2018-01-14   14370.799805     2018-01-17     11188.599609\n",
      "2    2018-01-21   12889.200195     2018-01-24     11359.400391\n",
      "3    2018-01-28   11475.299805     2018-01-31     10221.099609\n",
      "4    2018-02-04    9175.700195     2018-02-07      7621.299805\n",
      "..          ...            ...            ...              ...\n",
      "359  2024-11-24   97778.093750     2024-11-27     95962.531250\n",
      "360  2024-12-01   96461.335938     2024-12-04     98768.531250\n",
      "361  2024-12-08   99921.914062     2024-12-11    101173.031250\n",
      "362  2024-12-15  101373.531250     2024-12-18    100041.539062\n",
      "363  2024-12-22   97218.320312     2024-12-25     99299.195312\n",
      "\n",
      "[364 rows x 4 columns]\n"
     ]
    }
   ],
   "source": [
    "weekly_data = []\n",
    "wed_index = 0\n",
    "for _, sun_row in sundays.iterrows():\n",
    "    while wed_index < len(wednesdays) and wednesdays.iloc[wed_index][\"Date\"] < sun_row[\"Date\"]:\n",
    "        wed_index += 1\n",
    "    if wed_index < len(wednesdays):\n",
    "        weekly_data.append({\n",
    "            \"Sunday_Date\": sun_row[\"Date\"],\n",
    "            \"Sunday_Open\": sun_row[\"Sunday_Open\"],\n",
    "            \"Wednesday_Date\": wednesdays.iloc[wed_index][\"Date\"],\n",
    "            \"Wednesday_Close\": wednesdays.iloc[wed_index][\"Wednesday_Close\"]\n",
    "        })\n",
    "\n",
    "weekly_data = pd.DataFrame(weekly_data)\n",
    "print(weekly_data)\n"
   ]
  },
  {
   "cell_type": "code",
   "execution_count": 58,
   "id": "4b7f5a2b-df9c-4a07-99d7-03fb08c14f29",
   "metadata": {},
   "outputs": [
    {
     "name": "stdout",
     "output_type": "stream",
     "text": [
      "دارایی نهایی در پایان 2024: 4391.54 دلار\n"
     ]
    }
   ],
   "source": [
    "initial_balance = 1000 \n",
    "dollars = initial_balance\n",
    "balance_history = []\n",
    "\n",
    "def trade(week):\n",
    "    global dollars\n",
    "    buy_price = week[\"Sunday_Open\"]\n",
    "    sell_price = week[\"Wednesday_Close\"]\n",
    "    if pd.notna(buy_price) and pd.notna(sell_price):\n",
    "        btc_bought = dollars / buy_price\n",
    "        dollars = btc_bought * sell_price\n",
    "    balance_history.append(dollars)\n",
    "\n",
    "weekly_data.apply(trade, axis=1)\n",
    "\n",
    "\n",
    "final_balance = balance_history[-1]\n",
    "print(f\"دارایی نهایی در پایان 2024: {final_balance:.2f} دلار\")"
   ]
  },
  {
   "cell_type": "code",
   "execution_count": 74,
   "id": "2e6a659b-be6f-40d1-822b-878abb3de1e0",
   "metadata": {},
   "outputs": [
    {
     "data": {
      "image/png": "[encoded data removed]",
      "text/plain": [
       "<Figure size 1000x500 with 1 Axes>"
      ]
     },
     "metadata": {},
     "output_type": "display_data"
    }
   ],
   "source": [
    "plt.figure(figsize=(10, 5))\n",
    "plt.plot(weekly_data[\"Sunday_Date\"], balance_history, label=\"Balance Over Time\", color='b')\n",
    "plt.xlabel(\"Date\")\n",
    "plt.ylabel(\"Balance (USD)\")\n",
    "plt.title(\"Weekly Trading Strategy Performance\")\n",
    "plt.legend()\n",
    "plt.grid()\n",
    "plt.show()"
   ]
  },
  {
   "cell_type": "markdown",
   "id": "10105679-b9b8-4489-b72f-f99cc5ce2462",
   "metadata": {},
   "source": [
    "###### سرمایه اولیه ۱۰۰۰ دلاری در نهایت به بیش از ۴۰۰۰ دلار رسیده است، که نشان از رشد ۴ برابری دارد\n",
    "###### این استراتژی در بلندمدت و مخصوصاً در دوره‌ های صعودی بازار سودآور بوده است\n",
    "###### در دوره‌ های نزولی و پرنوسان، ارزش سرمایه کاهش یا نوسان داشته است\n",
    "###### شاید بهینه‌ تر باشد که در دوره‌ های نزولی از معامله هفتگی خودداری کرد و در بازارهای صعودی آن را اجرا کرد"
   ]
  },
  {
   "cell_type": "markdown",
   "id": "b3f4ad26-902c-42ce-a98e-4fbde1cc7149",
   "metadata": {
    "jp-MarkdownHeadingCollapsed": true
   },
   "source": [
    "## Best Weekly Trading Strategy Performance"
   ]
  },
  {
   "cell_type": "code",
   "execution_count": 75,
   "id": "bbf2d4a3-cf64-4a1a-bb00-c9e180fdfc5d",
   "metadata": {},
   "outputs": [
    {
     "name": "stdout",
     "output_type": "stream",
     "text": [
      "<class 'pandas.core.frame.DataFrame'>\n",
      "RangeIndex: 2555 entries, 0 to 2554\n",
      "Data columns (total 7 columns):\n",
      " #   Column   Non-Null Count  Dtype         \n",
      "---  ------   --------------  -----         \n",
      " 0   Close    2555 non-null   float64       \n",
      " 1   High     2555 non-null   float64       \n",
      " 2   Low      2555 non-null   float64       \n",
      " 3   Open     2555 non-null   float64       \n",
      " 4   Volume   2555 non-null   int64         \n",
      " 5   Date     2555 non-null   datetime64[ns]\n",
      " 6   Weekday  2555 non-null   int64         \n",
      "dtypes: datetime64[ns](1), float64(4), int64(2)\n",
      "memory usage: 139.9 KB\n",
      "None\n",
      "          Close          High           Low          Open       Volume  \\\n",
      "0  13657.200195  14112.200195  13154.700195  14112.200195  10291200000   \n",
      "1  14982.099609  15444.599609  13163.599609  13625.000000  16846600192   \n",
      "2  15201.000000  15572.799805  14844.500000  14978.200195  16871900160   \n",
      "3  15599.200195  15739.700195  14522.200195  15270.700195  21783199744   \n",
      "4  17429.500000  17705.199219  15202.799805  15477.200195  23840899072   \n",
      "\n",
      "        Date  Weekday  \n",
      "0 2018-01-01        3  \n",
      "1 2018-01-02        4  \n",
      "2 2018-01-03        5  \n",
      "3 2018-01-04        6  \n",
      "4 2018-01-05        7  \n"
     ]
    }
   ],
   "source": [
    "print(btc.info())\n",
    "print(btc.head())"
   ]
  },
  {
   "cell_type": "code",
   "execution_count": 156,
   "id": "b505f0cb-fc14-464a-8656-958676be4de0",
   "metadata": {},
   "outputs": [
    {
     "name": "stdout",
     "output_type": "stream",
     "text": [
      "                Close          Open\n",
      "Weekday                            \n",
      "1        28082.392599  28055.048842\n",
      "2        28117.461455  28082.103418\n",
      "3        27988.395052  27899.181413\n",
      "4        27950.335639  27988.299274\n",
      "5        28064.967908  27953.753177\n",
      "6        27985.682156  28067.048329\n",
      "7        28054.329986  27992.829130\n"
     ]
    }
   ],
   "source": [
    "weekdays_mean = btc.drop([\"High\", \"Date\", \"Low\", \"Volume\"],axis=1).groupby(by=\"Weekday\", as_index=True).mean()\n",
    "print(weekdays_mean)\n"
   ]
  },
  {
   "cell_type": "code",
   "execution_count": 159,
   "id": "de4402c3-9468-4bbe-adf7-f2cb5a20bd3c",
   "metadata": {},
   "outputs": [
    {
     "name": "stdout",
     "output_type": "stream",
     "text": [
      "Best day to buy:3, The price:27899.18141253746\n",
      "Best day to cell:2, The price:28082.10341796875\n"
     ]
    }
   ],
   "source": [
    "open_min = weekdays_mean[\"Open\"].min()\n",
    "open_day = weekdays_mean[\"Open\"].idxmin()\n",
    "\n",
    "close_max = weekdays_mean[\"Open\"].max()\n",
    "close_day = weekdays_mean[\"Open\"].idxmax()\n",
    "\n",
    "print(f\"Best day to buy:{open_day}, The price:{open_min}\")\n",
    "print(f\"Best day to cell:{close_day}, The price:{close_max}\")\n"
   ]
  },
  {
   "cell_type": "markdown",
   "id": "4260fb0c-a3d2-4217-b8df-b7979f93d4bf",
   "metadata": {},
   "source": [
    "###### برای کسب بیشترین سود باید در روزی که کمترین میانگین قیمت باز شدن را دارد خرید انجام دهیم و در روزی که بیشترین میانگین قیمت بسته شدن را دارد فروش انجام دهیم  "
   ]
  }
 ],
 "metadata": {
  "kernelspec": {
   "display_name": "Python 3 (ipykernel)",
   "language": "python",
   "name": "python3"
  },
  "language_info": {
   "codemirror_mode": {
    "name": "ipython",
    "version": 3
   },
   "file_extension": ".py",
   "mimetype": "text/x-python",
   "name": "python",
   "nbconvert_exporter": "python",
   "pygments_lexer": "ipython3",
   "version": "3.12.9"
  }
 },
 "nbformat": 4,
 "nbformat_minor": 5
}
